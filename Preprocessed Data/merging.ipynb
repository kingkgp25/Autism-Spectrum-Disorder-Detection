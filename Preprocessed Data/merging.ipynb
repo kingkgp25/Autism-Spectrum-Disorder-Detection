{
 "cells": [
  {
   "cell_type": "code",
   "execution_count": 1,
   "metadata": {},
   "outputs": [],
   "source": [
    "import pandas as pd\n",
    "import numpy as np"
   ]
  },
  {
   "cell_type": "code",
   "execution_count": 2,
   "metadata": {},
   "outputs": [],
   "source": [
    "data_1 = pd.read_csv(\"../DataSet/Screening/Autism Adolescent/new_csv_result-Autism-Adolescent-Data.csv\")\n",
    "data_2 = pd.read_csv(\"../DataSet/Screening/Autism adults/new_csv_result-Autism-Adult-Data.csv\")\n",
    "data_2_2 = pd.read_csv(\"../DataSet/Screening/Autism adults/new_autism_screening_2.csv\")\n",
    "data_3 = pd.read_csv(\"../DataSet/Screening/Autism child/csv_result-Autism-Child-Data.csv\")\n",
    "# data_4 = pd.read_csv(\"../DataSet/Screening/Autism toddler/new Toddler Autism dataset July 2018.csv\")\n",
    "data_5 = pd.read_csv(\"../DataSet/Screening/Screening question/new_Autism_Data.csv\")"
   ]
  },
  {
   "cell_type": "code",
   "execution_count": 10,
   "metadata": {},
   "outputs": [],
   "source": [
    "frames = [data_1, data_2, data_2_2, data_3, data_5]\n",
    "data = pd.concat(frames)"
   ]
  },
  {
   "cell_type": "code",
   "execution_count": 11,
   "metadata": {},
   "outputs": [
    {
     "data": {
      "text/plain": [
       "(2508, 22)"
      ]
     },
     "execution_count": 11,
     "metadata": {},
     "output_type": "execute_result"
    }
   ],
   "source": [
    "data.shape"
   ]
  },
  {
   "cell_type": "code",
   "execution_count": 12,
   "metadata": {},
   "outputs": [],
   "source": [
    "data.to_csv('../DataSet/Screening/data.csv')"
   ]
  }
 ],
 "metadata": {
  "interpreter": {
   "hash": "aee8b7b246df8f9039afb4144a1f6fd8d2ca17a180786b69acc140d282b71a49"
  },
  "kernelspec": {
   "display_name": "Python 3.9.10 64-bit",
   "language": "python",
   "name": "python3"
  },
  "language_info": {
   "codemirror_mode": {
    "name": "ipython",
    "version": 3
   },
   "file_extension": ".py",
   "mimetype": "text/x-python",
   "name": "python",
   "nbconvert_exporter": "python",
   "pygments_lexer": "ipython3",
   "version": "3.9.10"
  },
  "orig_nbformat": 4
 },
 "nbformat": 4,
 "nbformat_minor": 2
}
