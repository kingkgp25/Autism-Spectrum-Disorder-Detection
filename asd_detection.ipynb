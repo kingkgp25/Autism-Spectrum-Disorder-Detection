{
 "cells": [
  {
   "cell_type": "code",
   "execution_count": 141,
   "metadata": {},
   "outputs": [],
   "source": [
    "import pandas as pd\n",
    "import numpy as np\n",
    "import cv2\n",
    "from ast import literal_eval\n",
    "import seaborn as sns"
   ]
  },
  {
   "cell_type": "code",
   "execution_count": 142,
   "metadata": {},
   "outputs": [],
   "source": [
    "screening  = pd.read_csv(\"DataSet/Screening/data.csv\")\n",
    "screening.drop('Unnamed: 0', axis = 1, inplace= True)"
   ]
  },
  {
   "cell_type": "code",
   "execution_count": 143,
   "metadata": {},
   "outputs": [],
   "source": [
    "x = screening.iloc[:,:-1]\n",
    "y = screening.iloc[:,-1]"
   ]
  },
  {
   "cell_type": "markdown",
   "metadata": {},
   "source": [
    "#### Feature Scaling"
   ]
  },
  {
   "cell_type": "code",
   "execution_count": 144,
   "metadata": {},
   "outputs": [],
   "source": [
    "from sklearn.preprocessing import MinMaxScaler\n",
    "scaler = MinMaxScaler()"
   ]
  },
  {
   "cell_type": "code",
   "execution_count": 145,
   "metadata": {},
   "outputs": [],
   "source": [
    "x = scaler.fit_transform(x)"
   ]
  },
  {
   "cell_type": "code",
   "execution_count": 146,
   "metadata": {},
   "outputs": [],
   "source": [
    "from sklearn.model_selection import cross_val_score\n",
    "from sklearn.metrics import confusion_matrix, mean_absolute_error, accuracy_score, f1_score\n",
    "from sklearn.model_selection import train_test_split"
   ]
  },
  {
   "cell_type": "code",
   "execution_count": 147,
   "metadata": {},
   "outputs": [],
   "source": [
    "x_train, x_test, y_train, y_test = train_test_split(x,y, test_size=0.2, random_state=42)\n",
    "x_train, x_valid, y_train, y_valid = train_test_split(x,y, test_size=0.1, random_state=42)"
   ]
  },
  {
   "cell_type": "markdown",
   "metadata": {},
   "source": [
    "#### Logistic Regression"
   ]
  },
  {
   "cell_type": "code",
   "execution_count": 148,
   "metadata": {},
   "outputs": [],
   "source": [
    "from sklearn.linear_model import LogisticRegression\n",
    "clf = LogisticRegression()"
   ]
  },
  {
   "cell_type": "code",
   "execution_count": 149,
   "metadata": {},
   "outputs": [
    {
     "name": "stdout",
     "output_type": "stream",
     "text": [
      "Validation Scores:\n",
      "\n",
      "Accuracy: 93.53 (+/- 3.69) %\n",
      "Recall 0.9920986216268686\n",
      "Precision 0.9873200444412934\n",
      "F1 0.9896594273579495\n"
     ]
    }
   ],
   "source": [
    "print(\"Validation Scores:\\n\")\n",
    "scores = cross_val_score(clf, x_valid, y_valid, cv = 10, scoring= 'accuracy')\n",
    "print('Accuracy: {:.2f} (+/- {:.2f}) %'.format(scores.mean()*100, scores.std() *100))\n",
    "recall = cross_val_score(clf, x_train, y_train, cv=10, scoring='recall')\n",
    "print('Recall', np.mean(recall))\n",
    "precision = cross_val_score(clf, x_train, y_train, cv=10, scoring='precision')\n",
    "print('Precision', np.mean(precision))\n",
    "f1 = cross_val_score(clf, x_train, y_train, cv=10, scoring='f1')\n",
    "print('F1', np.mean(f1))"
   ]
  },
  {
   "cell_type": "code",
   "execution_count": 150,
   "metadata": {},
   "outputs": [],
   "source": [
    "clf.fit(x_train, y_train)\n",
    "y_pred = clf.predict(x_test)"
   ]
  },
  {
   "cell_type": "code",
   "execution_count": 151,
   "metadata": {},
   "outputs": [
    {
     "name": "stdout",
     "output_type": "stream",
     "text": [
      "Accuracy: 97.91183294663574\n",
      "Mean Absolute Error: 0.02088167053364269\n",
      "F1 Score:  0.9807280513918629\n",
      "Confusion Matrix: \n",
      "[[193   6]\n",
      " [  3 229]]\n"
     ]
    }
   ],
   "source": [
    "print(\"Accuracy:\",accuracy_score(y_test, y_pred)*100)\n",
    "print(\"Mean Absolute Error:\", mean_absolute_error(y_test, y_pred))\n",
    "print(\"F1 Score: \", f1_score(y_test, y_pred))\n",
    "print(\"Confusion Matrix: \")\n",
    "cm_matrix = confusion_matrix(y_test, y_pred)\n",
    "print(cm_matrix)"
   ]
  },
  {
   "cell_type": "code",
   "execution_count": 152,
   "metadata": {},
   "outputs": [
    {
     "data": {
      "text/plain": [
       "<AxesSubplot:>"
      ]
     },
     "execution_count": 152,
     "metadata": {},
     "output_type": "execute_result"
    },
    {
     "data": {
      "image/png": "[encoded data removed]",
      "text/plain": [
       "<Figure size 432x288 with 2 Axes>"
      ]
     },
     "metadata": {
      "needs_background": "light"
     },
     "output_type": "display_data"
    }
   ],
   "source": [
    "sns.heatmap(cm_matrix, annot=True, fmt='d', cmap='YlGnBu')"
   ]
  },
  {
   "cell_type": "markdown",
   "metadata": {},
   "source": [
    "#### SVM/SVC"
   ]
  },
  {
   "cell_type": "code",
   "execution_count": 153,
   "metadata": {},
   "outputs": [],
   "source": [
    "from sklearn.svm import SVC\n",
    "clf = SVC()"
   ]
  },
  {
   "cell_type": "code",
   "execution_count": 154,
   "metadata": {},
   "outputs": [
    {
     "name": "stdout",
     "output_type": "stream",
     "text": [
      "Validation Scores:\n",
      "\n",
      "Accuracy: 92.16 (+/- 5.45) %\n",
      "Recall 0.890909090909091\n",
      "Precision 0.9568181818181817\n",
      "F1 0.9166255559848236\n"
     ]
    }
   ],
   "source": [
    "print(\"Validation Scores:\\n\")\n",
    "scores = cross_val_score(clf, x_valid, y_valid, cv = 10, scoring= 'accuracy')\n",
    "print('Accuracy: {:.2f} (+/- {:.2f}) %'.format(scores.mean()*100, scores.std() *100))\n",
    "recall = cross_val_score(clf, x_valid, y_valid, cv=10, scoring='recall')\n",
    "print('Recall', np.mean(recall))\n",
    "precision = cross_val_score(clf, x_valid, y_valid, cv=10, scoring='precision')\n",
    "print('Precision', np.mean(precision))\n",
    "f1 = cross_val_score(clf, x_valid, y_valid, cv=10, scoring='f1')\n",
    "print('F1', np.mean(f1))"
   ]
  },
  {
   "cell_type": "code",
   "execution_count": 155,
   "metadata": {},
   "outputs": [],
   "source": [
    "clf.fit(x_train, y_train)\n",
    "y_pred = clf.predict(x_test)"
   ]
  },
  {
   "cell_type": "code",
   "execution_count": 156,
   "metadata": {},
   "outputs": [
    {
     "name": "stdout",
     "output_type": "stream",
     "text": [
      "Accuracy: 98.37587006960557\n",
      "Mean Absolute Error: 0.016241299303944315\n",
      "F1 Score:  0.9850746268656717\n",
      "Confusion Matrix: \n",
      "[[193   6]\n",
      " [  1 231]]\n"
     ]
    }
   ],
   "source": [
    "print(\"Accuracy:\",accuracy_score(y_test, y_pred)*100)\n",
    "print(\"Mean Absolute Error:\", mean_absolute_error(y_test, y_pred))\n",
    "print(\"F1 Score: \", f1_score(y_test, y_pred))\n",
    "print(\"Confusion Matrix: \")\n",
    "cm_matrix = confusion_matrix(y_test, y_pred)\n",
    "print(cm_matrix)"
   ]
  },
  {
   "cell_type": "code",
   "execution_count": 157,
   "metadata": {},
   "outputs": [
    {
     "data": {
      "text/plain": [
       "<AxesSubplot:>"
      ]
     },
     "execution_count": 157,
     "metadata": {},
     "output_type": "execute_result"
    },
    {
     "data": {
      "image/png": "[encoded data removed]",
      "text/plain": [
       "<Figure size 432x288 with 2 Axes>"
      ]
     },
     "metadata": {
      "needs_background": "light"
     },
     "output_type": "display_data"
    }
   ],
   "source": [
    "sns.heatmap(cm_matrix, annot=True, fmt='d', cmap='YlGnBu')"
   ]
  },
  {
   "cell_type": "markdown",
   "metadata": {},
   "source": [
    "#### KNN Classifier"
   ]
  },
  {
   "cell_type": "code",
   "execution_count": 158,
   "metadata": {},
   "outputs": [],
   "source": [
    "from sklearn.neighbors import KNeighborsClassifier\n",
    "clf = KNeighborsClassifier()"
   ]
  },
  {
   "cell_type": "code",
   "execution_count": 159,
   "metadata": {},
   "outputs": [
    {
     "name": "stdout",
     "output_type": "stream",
     "text": [
      "Validation Scores:\n",
      "\n",
      "Accuracy: 90.30 (+/- 6.23) %\n",
      "Recall 0.9090909090909092\n",
      "Precision 0.9128621378621379\n",
      "F1 0.9052842085450781\n"
     ]
    }
   ],
   "source": [
    "print(\"Validation Scores:\\n\")\n",
    "scores = cross_val_score(clf, x_valid, y_valid, cv = 10, scoring= 'accuracy')\n",
    "print('Accuracy: {:.2f} (+/- {:.2f}) %'.format(scores.mean()*100, scores.std() *100))\n",
    "recall = cross_val_score(clf, x_valid, y_valid, cv=10, scoring='recall')\n",
    "print('Recall', np.mean(recall))\n",
    "precision = cross_val_score(clf, x_valid, y_valid, cv=10, scoring='precision')\n",
    "print('Precision', np.mean(precision))\n",
    "f1 = cross_val_score(clf, x_valid, y_valid, cv=10, scoring='f1')\n",
    "print('F1', np.mean(f1))"
   ]
  },
  {
   "cell_type": "code",
   "execution_count": 160,
   "metadata": {},
   "outputs": [],
   "source": [
    "clf.fit(x_train, y_train)\n",
    "y_pred = clf.predict(x_test)"
   ]
  },
  {
   "cell_type": "code",
   "execution_count": 161,
   "metadata": {},
   "outputs": [
    {
     "name": "stdout",
     "output_type": "stream",
     "text": [
      "Accuracy: 94.19953596287704\n",
      "Mean Absolute Error: 0.058004640371229696\n",
      "F1 Score:  0.9469214437367304\n",
      "Confusion Matrix: \n",
      "[[183  16]\n",
      " [  9 223]]\n"
     ]
    }
   ],
   "source": [
    "print(\"Accuracy:\",accuracy_score(y_test, y_pred)*100)\n",
    "print(\"Mean Absolute Error:\", mean_absolute_error(y_test, y_pred))\n",
    "print(\"F1 Score: \", f1_score(y_test, y_pred))\n",
    "print(\"Confusion Matrix: \")\n",
    "cm_matrix = confusion_matrix(y_test, y_pred)\n",
    "print(cm_matrix)"
   ]
  },
  {
   "cell_type": "code",
   "execution_count": 162,
   "metadata": {},
   "outputs": [
    {
     "data": {
      "text/plain": [
       "<AxesSubplot:>"
      ]
     },
     "execution_count": 162,
     "metadata": {},
     "output_type": "execute_result"
    },
    {
     "data": {
      "image/png": "[encoded data removed]",
      "text/plain": [
       "<Figure size 432x288 with 2 Axes>"
      ]
     },
     "metadata": {
      "needs_background": "light"
     },
     "output_type": "display_data"
    }
   ],
   "source": [
    "sns.heatmap(cm_matrix, annot=True, fmt='d', cmap='YlGnBu')"
   ]
  },
  {
   "cell_type": "markdown",
   "metadata": {},
   "source": [
    "#### Gaussian Naive Bayes "
   ]
  },
  {
   "cell_type": "code",
   "execution_count": 169,
   "metadata": {},
   "outputs": [],
   "source": [
    "from sklearn.naive_bayes import GaussianNB\n",
    "clf = GaussianNB()"
   ]
  },
  {
   "cell_type": "code",
   "execution_count": 170,
   "metadata": {},
   "outputs": [
    {
     "name": "stdout",
     "output_type": "stream",
     "text": [
      "Validation Scores:\n",
      "\n",
      "Accuracy: 87.01 (+/- 8.53) %\n",
      "Recall 0.8744515628033392\n",
      "Precision 0.8959804729700431\n",
      "F1 0.8842871991863882\n"
     ]
    }
   ],
   "source": [
    "print(\"Validation Scores:\\n\")\n",
    "scores = cross_val_score(clf, x_valid, y_valid, cv = 10, scoring= 'accuracy')\n",
    "print('Accuracy: {:.2f} (+/- {:.2f}) %'.format(scores.mean()*100, scores.std() *100))\n",
    "recall = cross_val_score(clf, x_train, y_train, cv=10, scoring='recall')\n",
    "print('Recall', np.mean(recall))\n",
    "precision = cross_val_score(clf, x_train, y_train, cv=10, scoring='precision')\n",
    "print('Precision', np.mean(precision))\n",
    "f1 = cross_val_score(clf, x_train, y_train, cv=10, scoring='f1')\n",
    "print('F1', np.mean(f1))"
   ]
  },
  {
   "cell_type": "code",
   "execution_count": 171,
   "metadata": {},
   "outputs": [],
   "source": [
    "clf.fit(x_train, y_train)\n",
    "y_pred = clf.predict(x_test)"
   ]
  },
  {
   "cell_type": "code",
   "execution_count": 172,
   "metadata": {},
   "outputs": [
    {
     "name": "stdout",
     "output_type": "stream",
     "text": [
      "Accuracy: 88.63109048723898\n",
      "Mean Absolute Error: 0.1136890951276102\n",
      "F1 Score:  0.8941684665226782\n",
      "Confusion Matrix: \n",
      "[[175  24]\n",
      " [ 25 207]]\n"
     ]
    }
   ],
   "source": [
    "print(\"Accuracy:\",accuracy_score(y_test, y_pred)*100)\n",
    "print(\"Mean Absolute Error:\", mean_absolute_error(y_test, y_pred))\n",
    "print(\"F1 Score: \", f1_score(y_test, y_pred))\n",
    "print(\"Confusion Matrix: \")\n",
    "cm_matrix = confusion_matrix(y_test, y_pred)\n",
    "print(cm_matrix)"
   ]
  },
  {
   "cell_type": "code",
   "execution_count": 173,
   "metadata": {},
   "outputs": [
    {
     "data": {
      "text/plain": [
       "<AxesSubplot:>"
      ]
     },
     "execution_count": 173,
     "metadata": {},
     "output_type": "execute_result"
    },
    {
     "data": {
      "image/png": "[encoded data removed]",
      "text/plain": [
       "<Figure size 432x288 with 2 Axes>"
      ]
     },
     "metadata": {
      "needs_background": "light"
     },
     "output_type": "display_data"
    }
   ],
   "source": [
    "sns.heatmap(cm_matrix, annot=True, fmt='d', cmap='YlGnBu')"
   ]
  },
  {
   "cell_type": "markdown",
   "metadata": {},
   "source": [
    "#### LightGBM"
   ]
  },
  {
   "cell_type": "code",
   "execution_count": 163,
   "metadata": {},
   "outputs": [],
   "source": [
    "import lightgbm as lgb\n",
    "clf = lgb.LGBMClassifier(objective= 'mse')"
   ]
  },
  {
   "cell_type": "code",
   "execution_count": 164,
   "metadata": {},
   "outputs": [
    {
     "name": "stdout",
     "output_type": "stream",
     "text": [
      "Validation Scores:\n",
      "\n",
      "Accuracy: 100.00 (+/- 0.00) %\n",
      "Recall 1.0\n",
      "Precision 1.0\n",
      "F1 1.0\n"
     ]
    }
   ],
   "source": [
    "print(\"Validation Scores:\\n\")\n",
    "scores = cross_val_score(clf, x_valid, y_valid, cv = 10, scoring= 'accuracy')\n",
    "print('Accuracy: {:.2f} (+/- {:.2f}) %'.format(scores.mean()*100, scores.std() *100))\n",
    "recall = cross_val_score(clf, x_train, y_train, cv=10, scoring='recall')\n",
    "print('Recall', np.mean(recall))\n",
    "precision = cross_val_score(clf, x_train, y_train, cv=10, scoring='precision')\n",
    "print('Precision', np.mean(precision))\n",
    "f1 = cross_val_score(clf, x_train, y_train, cv=10, scoring='f1')\n",
    "print('F1', np.mean(f1))"
   ]
  },
  {
   "cell_type": "code",
   "execution_count": 165,
   "metadata": {},
   "outputs": [],
   "source": [
    "clf.fit(x_train, y_train)\n",
    "y_pred = clf.predict(x_test)"
   ]
  },
  {
   "cell_type": "code",
   "execution_count": 166,
   "metadata": {},
   "outputs": [
    {
     "name": "stdout",
     "output_type": "stream",
     "text": [
      "Accuracy: 100.0\n",
      "Mean Absolute Error: 0.0\n",
      "F1 Score:  1.0\n",
      "Confusion Matrix: \n",
      "[[199   0]\n",
      " [  0 232]]\n"
     ]
    }
   ],
   "source": [
    "print(\"Accuracy:\",accuracy_score(y_test, y_pred)*100)\n",
    "print(\"Mean Absolute Error:\", mean_absolute_error(y_test, y_pred))\n",
    "print(\"F1 Score: \", f1_score(y_test, y_pred))\n",
    "print(\"Confusion Matrix: \")\n",
    "cm_matrix = confusion_matrix(y_test, y_pred)\n",
    "print(cm_matrix)"
   ]
  },
  {
   "cell_type": "code",
   "execution_count": 167,
   "metadata": {},
   "outputs": [
    {
     "data": {
      "text/plain": [
       "<AxesSubplot:>"
      ]
     },
     "execution_count": 167,
     "metadata": {},
     "output_type": "execute_result"
    },
    {
     "data": {
      "image/png": "[encoded data removed]",
      "text/plain": [
       "<Figure size 432x288 with 2 Axes>"
      ]
     },
     "metadata": {
      "needs_background": "light"
     },
     "output_type": "display_data"
    }
   ],
   "source": [
    "sns.heatmap(cm_matrix, annot=True, fmt='d', cmap='YlGnBu')"
   ]
  },
  {
   "cell_type": "code",
   "execution_count": 168,
   "metadata": {},
   "outputs": [
    {
     "ename": "TypeError",
     "evalue": "object of type 'NoneType' has no len()",
     "output_type": "error",
     "traceback": [
      "\u001b[0;31m---------------------------------------------------------------------------\u001b[0m",
      "\u001b[0;31mTypeError\u001b[0m                                 Traceback (most recent call last)",
      "\u001b[0;32m/var/folders/5z/t6sbm3xj06x0vrxn1jjsycmr0000gn/T/ipykernel_15619/2488837766.py\u001b[0m in \u001b[0;36m<module>\u001b[0;34m\u001b[0m\n\u001b[0;32m----> 1\u001b[0;31m \u001b[0mlgb\u001b[0m\u001b[0;34m.\u001b[0m\u001b[0mplot_metric\u001b[0m\u001b[0;34m(\u001b[0m\u001b[0mclf\u001b[0m\u001b[0;34m)\u001b[0m\u001b[0;34m\u001b[0m\u001b[0;34m\u001b[0m\u001b[0m\n\u001b[0m",
      "\u001b[0;32m/usr/local/lib/python3.9/site-packages/lightgbm/plotting.py\u001b[0m in \u001b[0;36mplot_metric\u001b[0;34m(booster, metric, dataset_names, ax, xlim, ylim, title, xlabel, ylabel, figsize, dpi, grid)\u001b[0m\n\u001b[1;32m    348\u001b[0m         \u001b[0;32mraise\u001b[0m \u001b[0mTypeError\u001b[0m\u001b[0;34m(\u001b[0m\u001b[0;34m'booster must be dict or LGBMModel.'\u001b[0m\u001b[0;34m)\u001b[0m\u001b[0;34m\u001b[0m\u001b[0;34m\u001b[0m\u001b[0m\n\u001b[1;32m    349\u001b[0m \u001b[0;34m\u001b[0m\u001b[0m\n\u001b[0;32m--> 350\u001b[0;31m     \u001b[0mnum_data\u001b[0m \u001b[0;34m=\u001b[0m \u001b[0mlen\u001b[0m\u001b[0;34m(\u001b[0m\u001b[0meval_results\u001b[0m\u001b[0;34m)\u001b[0m\u001b[0;34m\u001b[0m\u001b[0;34m\u001b[0m\u001b[0m\n\u001b[0m\u001b[1;32m    351\u001b[0m \u001b[0;34m\u001b[0m\u001b[0m\n\u001b[1;32m    352\u001b[0m     \u001b[0;32mif\u001b[0m \u001b[0;32mnot\u001b[0m \u001b[0mnum_data\u001b[0m\u001b[0;34m:\u001b[0m\u001b[0;34m\u001b[0m\u001b[0;34m\u001b[0m\u001b[0m\n",
      "\u001b[0;31mTypeError\u001b[0m: object of type 'NoneType' has no len()"
     ]
    }
   ],
   "source": [
    "lgb.plot_metric(clf)"
   ]
  }
 ],
 "metadata": {
  "interpreter": {
   "hash": "aee8b7b246df8f9039afb4144a1f6fd8d2ca17a180786b69acc140d282b71a49"
  },
  "kernelspec": {
   "display_name": "Python 3.9.10 64-bit",
   "language": "python",
   "name": "python3"
  },
  "language_info": {
   "codemirror_mode": {
    "name": "ipython",
    "version": 3
   },
   "file_extension": ".py",
   "mimetype": "text/x-python",
   "name": "python",
   "nbconvert_exporter": "python",
   "pygments_lexer": "ipython3",
   "version": "3.9.10"
  },
  "orig_nbformat": 4
 },
 "nbformat": 4,
 "nbformat_minor": 2
}
